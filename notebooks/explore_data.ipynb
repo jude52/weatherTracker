{
 "cells": [
  {
   "cell_type": "code",
   "execution_count": 1,
   "id": "ad7d6bde",
   "metadata": {},
   "outputs": [],
   "source": [
    "import pandas as pd\n",
    "import os"
   ]
  },
  {
   "cell_type": "code",
   "execution_count": null,
   "id": "42994013",
   "metadata": {},
   "outputs": [
    {
     "name": "stderr",
     "output_type": "stream",
     "text": [
      "<>:3: SyntaxWarning: invalid escape sequence '\\w'\n",
      "<>:3: SyntaxWarning: invalid escape sequence '\\w'\n",
      "C:\\Users\\JF29861\\AppData\\Local\\Temp\\1\\ipykernel_3360\\2175774884.py:3: SyntaxWarning: invalid escape sequence '\\w'\n",
      "  csv_path = os.path.join(project_root, \"data\", \"raw\\weatherdata\\city_temperature.csv\")\n"
     ]
    },
    {
     "name": "stdout",
     "output_type": "stream",
     "text": [
      "Looking for CSV at: c:\\Users\\JF29861\\Desktop\\Jude\\ASSET_TEAM_DISTRIBUTION\\WeatherTracker\\weatherTrackerProj\\data\\raw\\weatherdata\\city_temperature.csv\n"
     ]
    },
    {
     "name": "stderr",
     "output_type": "stream",
     "text": [
      "C:\\Users\\JF29861\\AppData\\Local\\Temp\\1\\ipykernel_3360\\2175774884.py:6: DtypeWarning: Columns (2) have mixed types. Specify dtype option on import or set low_memory=False.\n",
      "  dataframe = pd.read_csv(csv_path)\n"
     ]
    },
    {
     "name": "stdout",
     "output_type": "stream",
     "text": [
      "    Country     City  Month  Year  AvgTemperature\n",
      "0   Algeria  Algiers      1  1995            17.9\n",
      "1   Algeria  Algiers      1  1995             9.7\n",
      "2   Algeria  Algiers      1  1995             9.3\n",
      "3   Algeria  Algiers      1  1995             8.0\n",
      "4   Algeria  Algiers      1  1995             8.8\n",
      "..      ...      ...    ...   ...             ...\n",
      "95  Algeria  Algiers      4  1995            15.0\n",
      "96  Algeria  Algiers      4  1995            12.7\n",
      "97  Algeria  Algiers      4  1995            12.3\n",
      "98  Algeria  Algiers      4  1995            14.3\n",
      "99  Algeria  Algiers      4  1995            15.6\n",
      "\n",
      "[100 rows x 5 columns]\n"
     ]
    }
   ],
   "source": [
    "#need to go into root to find file \n",
    "project_root = os.path.abspath(os.path.join(os.getcwd(), \"..\"))\n",
    "csv_path = os.path.join(project_root, \"data\", \"raw\\weatherdata\\city_temperature.csv\")\n",
    "print(\"Looking for CSV at:\", csv_path)\n",
    "# Read file\n",
    "dataframe = pd.read_csv(csv_path)\n",
    "\n",
    "#get rid of several cols \n",
    "temp_data = dataframe.drop([\"Region\",\"State\",\"Day\"],axis=1)\n",
    "#print(temp_data.head(50))\n",
    "\n",
    "#replace temp with celsius\n",
    "def to_celsius(temp_data):\n",
    "    temp_data[\"AvgTemperature\"] = ((temp_data[\"AvgTemperature\"] - 32) * 5.0/9.0).round(1)\n",
    "    return temp_data\n",
    " \n",
    " \n",
    "\n",
    "test = to_celsius(temp_data)\n",
    "print(test.head(100))\n",
    "\n",
    "\n"
   ]
  },
  {
   "cell_type": "code",
   "execution_count": null,
   "id": "3af8938a",
   "metadata": {},
   "outputs": [],
   "source": []
  }
 ],
 "metadata": {
  "kernelspec": {
   "display_name": ".venv",
   "language": "python",
   "name": "python3"
  },
  "language_info": {
   "codemirror_mode": {
    "name": "ipython",
    "version": 3
   },
   "file_extension": ".py",
   "mimetype": "text/x-python",
   "name": "python",
   "nbconvert_exporter": "python",
   "pygments_lexer": "ipython3",
   "version": "3.12.4"
  }
 },
 "nbformat": 4,
 "nbformat_minor": 5
}
